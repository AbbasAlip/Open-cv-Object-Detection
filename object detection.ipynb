{
 "cells": [
  {
   "cell_type": "code",
   "execution_count": 2,
   "id": "e0ca1f21",
   "metadata": {},
   "outputs": [
    {
     "name": "stdout",
     "output_type": "stream",
     "text": [
      "Requirement already satisfied: opencv-contrib-python in c:\\users\\pabba\\appdata\\roaming\\python\\python311\\site-packages (4.8.1.78)\n",
      "Requirement already satisfied: numpy>=1.21.2 in c:\\users\\pabba\\anaconda3\\lib\\site-packages (from opencv-contrib-python) (1.24.3)\n"
     ]
    }
   ],
   "source": [
    "!pip install opencv-contrib-python"
   ]
  },
  {
   "cell_type": "code",
   "execution_count": 3,
   "id": "132b3391",
   "metadata": {},
   "outputs": [
    {
     "name": "stdout",
     "output_type": "stream",
     "text": [
      "Collecting cvlib\n",
      "  Downloading cvlib-0.2.7.tar.gz (13.1 MB)\n",
      "     ---------------------------------------- 0.0/13.1 MB ? eta -:--:--\n",
      "     ---------------------------------------- 0.0/13.1 MB ? eta -:--:--\n",
      "     ---------------------------------------- 0.0/13.1 MB ? eta -:--:--\n",
      "     --------------------------------------- 0.0/13.1 MB 281.8 kB/s eta 0:00:47\n",
      "     --------------------------------------- 0.1/13.1 MB 435.7 kB/s eta 0:00:30\n",
      "     - -------------------------------------- 0.5/13.1 MB 2.6 MB/s eta 0:00:05\n",
      "     --- ------------------------------------ 1.1/13.1 MB 4.7 MB/s eta 0:00:03\n",
      "     ----- ---------------------------------- 1.8/13.1 MB 6.3 MB/s eta 0:00:02\n",
      "     -------- ------------------------------- 2.9/13.1 MB 8.9 MB/s eta 0:00:02\n",
      "     ----------- ---------------------------- 3.7/13.1 MB 10.2 MB/s eta 0:00:01\n",
      "     ------------- -------------------------- 4.5/13.1 MB 11.0 MB/s eta 0:00:01\n",
      "     --------------- ------------------------ 5.2/13.1 MB 11.4 MB/s eta 0:00:01\n",
      "     ------------------ --------------------- 6.0/13.1 MB 12.4 MB/s eta 0:00:01\n",
      "     ------------------- -------------------- 6.3/13.1 MB 12.6 MB/s eta 0:00:01\n",
      "     ------------------- -------------------- 6.3/13.1 MB 12.6 MB/s eta 0:00:01\n",
      "     ------------------- -------------------- 6.3/13.1 MB 12.6 MB/s eta 0:00:01\n",
      "     ------------------- -------------------- 6.3/13.1 MB 12.6 MB/s eta 0:00:01\n",
      "     ------------------- -------------------- 6.3/13.1 MB 12.6 MB/s eta 0:00:01\n",
      "     -------------------- ------------------- 6.8/13.1 MB 9.3 MB/s eta 0:00:01\n",
      "     ----------------------- ---------------- 7.8/13.1 MB 10.0 MB/s eta 0:00:01\n",
      "     ------------------------- -------------- 8.5/13.1 MB 10.3 MB/s eta 0:00:01\n",
      "     ---------------------------- ----------- 9.4/13.1 MB 10.8 MB/s eta 0:00:01\n",
      "     ---------------------------- ----------- 9.4/13.1 MB 10.8 MB/s eta 0:00:01\n",
      "     ---------------------------- ----------- 9.4/13.1 MB 10.8 MB/s eta 0:00:01\n",
      "     ------------------------------ --------- 10.1/13.1 MB 9.9 MB/s eta 0:00:01\n",
      "     ------------------------------- ------- 10.5/13.1 MB 11.9 MB/s eta 0:00:01\n",
      "     ------------------------------- ------- 10.5/13.1 MB 11.9 MB/s eta 0:00:01\n",
      "     ------------------------------- ------- 10.5/13.1 MB 11.9 MB/s eta 0:00:01\n",
      "     ------------------------------- ------- 10.5/13.1 MB 11.9 MB/s eta 0:00:01\n",
      "     ------------------------------- ------- 10.5/13.1 MB 11.9 MB/s eta 0:00:01\n",
      "     --------------------------------- ------ 10.9/13.1 MB 9.5 MB/s eta 0:00:01\n",
      "     ------------------------------------ --- 12.0/13.1 MB 9.6 MB/s eta 0:00:01\n",
      "     -------------------------------------- - 12.6/13.1 MB 9.4 MB/s eta 0:00:01\n",
      "     ---------------------------------------  13.1/13.1 MB 9.5 MB/s eta 0:00:01\n",
      "     ---------------------------------------  13.1/13.1 MB 9.5 MB/s eta 0:00:01\n",
      "     ---------------------------------------- 13.1/13.1 MB 8.8 MB/s eta 0:00:00\n",
      "  Preparing metadata (setup.py): started\n",
      "  Preparing metadata (setup.py): finished with status 'done'\n",
      "Requirement already satisfied: numpy in c:\\users\\pabba\\anaconda3\\lib\\site-packages (from cvlib) (1.24.3)\n",
      "Collecting progressbar (from cvlib)\n",
      "  Downloading progressbar-2.5.tar.gz (10 kB)\n",
      "  Preparing metadata (setup.py): started\n",
      "  Preparing metadata (setup.py): finished with status 'done'\n",
      "Requirement already satisfied: requests in c:\\users\\pabba\\anaconda3\\lib\\site-packages (from cvlib) (2.31.0)\n",
      "Requirement already satisfied: pillow in c:\\users\\pabba\\anaconda3\\lib\\site-packages (from cvlib) (9.4.0)\n",
      "Requirement already satisfied: imageio in c:\\users\\pabba\\anaconda3\\lib\\site-packages (from cvlib) (2.26.0)\n",
      "Collecting imutils (from cvlib)\n",
      "  Using cached imutils-0.5.4.tar.gz (17 kB)\n",
      "  Preparing metadata (setup.py): started\n",
      "  Preparing metadata (setup.py): finished with status 'done'\n",
      "Requirement already satisfied: charset-normalizer<4,>=2 in c:\\users\\pabba\\anaconda3\\lib\\site-packages (from requests->cvlib) (2.0.4)\n",
      "Requirement already satisfied: idna<4,>=2.5 in c:\\users\\pabba\\anaconda3\\lib\\site-packages (from requests->cvlib) (3.4)\n",
      "Requirement already satisfied: urllib3<3,>=1.21.1 in c:\\users\\pabba\\anaconda3\\lib\\site-packages (from requests->cvlib) (1.26.16)\n",
      "Requirement already satisfied: certifi>=2017.4.17 in c:\\users\\pabba\\anaconda3\\lib\\site-packages (from requests->cvlib) (2023.7.22)\n",
      "Building wheels for collected packages: cvlib, imutils, progressbar\n",
      "  Building wheel for cvlib (setup.py): started\n",
      "  Building wheel for cvlib (setup.py): finished with status 'done'\n",
      "  Created wheel for cvlib: filename=cvlib-0.2.7-py3-none-any.whl size=10046378 sha256=11e4d423a51e0267ecdf1b541702db29afc1fb1001e6e585bcfc0cb76a0a53e7\n",
      "  Stored in directory: c:\\users\\pabba\\appdata\\local\\pip\\cache\\wheels\\47\\ea\\1c\\d618f916b503769662fc15debfdefbf7bc43f014465c3bb7c7\n",
      "  Building wheel for imutils (setup.py): started\n",
      "  Building wheel for imutils (setup.py): finished with status 'done'\n",
      "  Created wheel for imutils: filename=imutils-0.5.4-py3-none-any.whl size=25854 sha256=a4840964d1126981f8adc45bcf4c3eeee3acd36e829a2acf8a3207fd1d04e1b9\n",
      "  Stored in directory: c:\\users\\pabba\\appdata\\local\\pip\\cache\\wheels\\31\\d0\\2c\\87ce38f6052879e5b7b18f0f8b4a10ad2a9d210e908d449f16\n",
      "  Building wheel for progressbar (setup.py): started\n",
      "  Building wheel for progressbar (setup.py): finished with status 'done'\n",
      "  Created wheel for progressbar: filename=progressbar-2.5-py3-none-any.whl size=12084 sha256=94bde3150173a36d693ef29a081352d8b070651a8c916c4a799dfb7b3263a301\n",
      "  Stored in directory: c:\\users\\pabba\\appdata\\local\\pip\\cache\\wheels\\8d\\bb\\b2\\5353b966ac6f3c5e1000629a9a5f6aed41794487f551e32efc\n",
      "Successfully built cvlib imutils progressbar\n",
      "Installing collected packages: progressbar, imutils, cvlib\n",
      "Successfully installed cvlib-0.2.7 imutils-0.5.4 progressbar-2.5\n"
     ]
    }
   ],
   "source": [
    "!pip install cvlib"
   ]
  },
  {
   "cell_type": "code",
   "execution_count": 4,
   "id": "622ad741",
   "metadata": {},
   "outputs": [
    {
     "name": "stdout",
     "output_type": "stream",
     "text": [
      "Collecting gtts\n",
      "  Obtaining dependency information for gtts from https://files.pythonhosted.org/packages/6a/4f/b133719e7638ca68f8805dd75731371db8d5ed23be84d6fc30845a46bedb/gTTS-2.5.0-py3-none-any.whl.metadata\n",
      "  Downloading gTTS-2.5.0-py3-none-any.whl.metadata (4.1 kB)\n",
      "Collecting playsound\n",
      "  Downloading playsound-1.3.0.tar.gz (7.7 kB)\n",
      "  Preparing metadata (setup.py): started\n",
      "  Preparing metadata (setup.py): finished with status 'done'\n",
      "Requirement already satisfied: requests<3,>=2.27 in c:\\users\\pabba\\anaconda3\\lib\\site-packages (from gtts) (2.31.0)\n",
      "Requirement already satisfied: click<8.2,>=7.1 in c:\\users\\pabba\\anaconda3\\lib\\site-packages (from gtts) (8.0.4)\n",
      "Requirement already satisfied: colorama in c:\\users\\pabba\\anaconda3\\lib\\site-packages (from click<8.2,>=7.1->gtts) (0.4.6)\n",
      "Requirement already satisfied: charset-normalizer<4,>=2 in c:\\users\\pabba\\anaconda3\\lib\\site-packages (from requests<3,>=2.27->gtts) (2.0.4)\n",
      "Requirement already satisfied: idna<4,>=2.5 in c:\\users\\pabba\\anaconda3\\lib\\site-packages (from requests<3,>=2.27->gtts) (3.4)\n",
      "Requirement already satisfied: urllib3<3,>=1.21.1 in c:\\users\\pabba\\anaconda3\\lib\\site-packages (from requests<3,>=2.27->gtts) (1.26.16)\n",
      "Requirement already satisfied: certifi>=2017.4.17 in c:\\users\\pabba\\anaconda3\\lib\\site-packages (from requests<3,>=2.27->gtts) (2023.7.22)\n",
      "Downloading gTTS-2.5.0-py3-none-any.whl (29 kB)\n",
      "Building wheels for collected packages: playsound\n",
      "  Building wheel for playsound (setup.py): started\n",
      "  Building wheel for playsound (setup.py): finished with status 'done'\n",
      "  Created wheel for playsound: filename=playsound-1.3.0-py3-none-any.whl size=7046 sha256=651efeed469992df0bf3fcbc6dd3870f4cd42f881745919067335fa76f2a9e24\n",
      "  Stored in directory: c:\\users\\pabba\\appdata\\local\\pip\\cache\\wheels\\50\\98\\42\\62753a9e1fb97579a0ce2f84f7db4c21c09d03bb2091e6cef4\n",
      "Successfully built playsound\n",
      "Installing collected packages: playsound, gtts\n",
      "Successfully installed gtts-2.5.0 playsound-1.3.0\n"
     ]
    }
   ],
   "source": [
    "!pip install gtts playsound"
   ]
  },
  {
   "cell_type": "code",
   "execution_count": 5,
   "id": "1e2b1ab4",
   "metadata": {},
   "outputs": [
    {
     "name": "stdout",
     "output_type": "stream",
     "text": [
      "Collecting PyObjC\n",
      "  Obtaining dependency information for PyObjC from https://files.pythonhosted.org/packages/9e/38/ef2250f1d7bf3f50ba1c877aba6ee56eff09797a88952a32b1283d485933/pyobjc-10.1-py3-none-any.whl.metadata\n",
      "  Downloading pyobjc-10.1-py3-none-any.whl.metadata (25 kB)\n",
      "Collecting pyobjc-core==10.1 (from PyObjC)\n",
      "  Downloading pyobjc-core-10.1.tar.gz (927 kB)\n",
      "     ---------------------------------------- 0.0/927.9 kB ? eta -:--:--\n",
      "     ---------------------------------------- 10.2/927.9 kB ? eta -:--:--\n",
      "     ------ ------------------------------- 163.8/927.9 kB 2.5 MB/s eta 0:00:01\n",
      "     ------------------------- ------------ 624.6/927.9 kB 6.6 MB/s eta 0:00:01\n",
      "     -------------------------------------- 927.9/927.9 kB 7.3 MB/s eta 0:00:00\n",
      "  Installing build dependencies: started\n",
      "  Installing build dependencies: finished with status 'done'\n",
      "  Getting requirements to build wheel: started\n",
      "  Getting requirements to build wheel: finished with status 'error'\n"
     ]
    },
    {
     "name": "stderr",
     "output_type": "stream",
     "text": [
      "  error: subprocess-exited-with-error\n",
      "  \n",
      "  Getting requirements to build wheel did not run successfully.\n",
      "  exit code: 1\n",
      "  \n",
      "  [2 lines of output]\n",
      "  running egg_info\n",
      "  error: PyObjC requires macOS to build\n",
      "  [end of output]\n",
      "  \n",
      "  note: This error originates from a subprocess, and is likely not a problem with pip.\n",
      "error: subprocess-exited-with-error\n",
      "\n",
      "Getting requirements to build wheel did not run successfully.\n",
      "exit code: 1\n",
      "\n",
      "See above for output.\n",
      "\n",
      "note: This error originates from a subprocess, and is likely not a problem with pip.\n"
     ]
    }
   ],
   "source": [
    "!pip3 install PyObjC"
   ]
  },
  {
   "cell_type": "code",
   "execution_count": 3,
   "id": "addcea69",
   "metadata": {},
   "outputs": [],
   "source": [
    "import cv2 \n",
    "import cvlib as cv\n",
    "from cvlib.object_detection import draw_bbox\n",
    "from gtts import gTTS\n",
    "from playsound import playsound\n"
   ]
  },
  {
   "cell_type": "code",
   "execution_count": null,
   "id": "9263166b",
   "metadata": {},
   "outputs": [],
   "source": [
    "video =  cv2.VideoCapture(0)\n",
    "labels = []\n",
    "while True:\n",
    "    ret , frame = video.read()\n",
    "    bbox , label , conf = cv.detect_common_objects(frame)\n",
    "    output_image = draw_bbox(frame , bbox, label ,conf)\n",
    "    cv2.imshow(\"Object Detection\", output_image)\n",
    "    \n",
    "    \n",
    "    for item in label:\n",
    "        if item in labels:\n",
    "            pass\n",
    "        else:\n",
    "            labels.append(item)\n",
    "    \n",
    "    if cv2.waitKey(1) & 0xFF == ord(\"q\"):\n",
    "        break\n",
    "print(labels)\n",
    "        "
   ]
  },
  {
   "cell_type": "code",
   "execution_count": null,
   "id": "5c77adf3",
   "metadata": {},
   "outputs": [],
   "source": []
  },
  {
   "cell_type": "code",
   "execution_count": null,
   "id": "036d5818",
   "metadata": {},
   "outputs": [],
   "source": []
  }
 ],
 "metadata": {
  "kernelspec": {
   "display_name": "Python 3 (ipykernel)",
   "language": "python",
   "name": "python3"
  },
  "language_info": {
   "codemirror_mode": {
    "name": "ipython",
    "version": 3
   },
   "file_extension": ".py",
   "mimetype": "text/x-python",
   "name": "python",
   "nbconvert_exporter": "python",
   "pygments_lexer": "ipython3",
   "version": "3.11.5"
  }
 },
 "nbformat": 4,
 "nbformat_minor": 5
}
